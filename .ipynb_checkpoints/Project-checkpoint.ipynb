{
 "cells": [
  {
   "cell_type": "code",
   "execution_count": null,
   "metadata": {},
   "outputs": [],
   "source": [
    "\"\"\"\n",
    "TODO: Prepare data for classification\n",
    "Figure out best classification model\n",
    "Figure out most important attributes\n",
    "Figure out best visualization to display attributes that are important\n",
    "Clean up notebook to be presentable\n",
    "\"\"\""
   ]
  },
  {
   "cell_type": "code",
   "execution_count": 19,
   "metadata": {},
   "outputs": [],
   "source": [
    "import pandas as pd\n",
    "# Reading data:\n",
    "column_names = ['age', 'workclass', 'fnlwgt', 'education', 'education-num',\n",
    "                'martial-status', 'occupation', 'relationship', 'race',\n",
    "                'sex', 'capital-gain', 'capital-loss', 'hours-per-week',\n",
    "                'native-country']\n",
    "\n",
    "df = pd.read_csv('adult.data',names=column_names,header=None, index_col=False)\n",
    "test_df = pd.read_csv('adult.test',names=column_names + ['Label'], header=None, index_col=False, skiprows=1)\n",
    "df"
   ]
  },
  {
   "cell_type": "code",
   "execution_count": 20,
   "metadata": {},
   "outputs": [],
   "source": [
    "#Data cleaning:\n",
    "#need to encode all string labels... this has been done for the education class, so we can drop it\n",
    "df = df.drop('education', axis='columns')\n",
    "test_df = test_df.drop('education', axis='columns')\n",
    "#we can either do label encoding or one-hot encoding\n"
   ]
  },
  {
   "cell_type": "code",
   "execution_count": null,
   "metadata": {},
   "outputs": [],
   "source": [
    "#Classification \n",
    "#https://www.datacamp.com/community/tutorials/random-forests-classifier-python\n"
   ]
  }
 ],
 "metadata": {
  "kernelspec": {
   "display_name": "Python 3",
   "language": "python",
   "name": "python3"
  },
  "language_info": {
   "codemirror_mode": {
    "name": "ipython",
    "version": 3
   },
   "file_extension": ".py",
   "mimetype": "text/x-python",
   "name": "python",
   "nbconvert_exporter": "python",
   "pygments_lexer": "ipython3",
   "version": "3.9.2"
  }
 },
 "nbformat": 4,
 "nbformat_minor": 4
}
