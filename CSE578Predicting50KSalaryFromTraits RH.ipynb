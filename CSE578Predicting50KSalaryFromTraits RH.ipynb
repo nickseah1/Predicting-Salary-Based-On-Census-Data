{
 "cells": [
  {
   "cell_type": "code",
   "execution_count": 1,
   "metadata": {},
   "outputs": [
    {
     "data": {
      "text/plain": [
       "'\\nNotes:\\nfnlwgt is sort of a numerical estimate to how similar a person is to another. The closer they are demographically,\\nthe closer their fnlwgt score is. This is taken from the adult.names file, \"People with similar demographic\\ncharacteristics should have similar weights.\"\\n'"
      ]
     },
     "execution_count": 1,
     "metadata": {},
     "output_type": "execute_result"
    }
   ],
   "source": [
    "\"\"\"\n",
    "Notes:\n",
    "fnlwgt is sort of a numerical estimate to how similar a person is to another. The closer they are demographically,\n",
    "the closer their fnlwgt score is. This is taken from the adult.names file, \"People with similar demographic\n",
    "characteristics should have similar weights.\"\n",
    "\"\"\""
   ]
  },
  {
   "cell_type": "code",
   "execution_count": 2,
   "metadata": {},
   "outputs": [],
   "source": [
    "import pandas as pd\n",
    "import numpy as np\n",
    "import matplotlib.pyplot as plt\n",
    "import seaborn as sns\n",
    "from sklearn import metrics"
   ]
  },
  {
   "cell_type": "code",
   "execution_count": 15,
   "metadata": {},
   "outputs": [],
   "source": [
    "cols = ['age', 'workclass', 'fnlwgt', 'education', 'education-num',\n",
    "                'martial-status', 'occupation', 'relationship', 'race',\n",
    "                'sex', 'capital-gain', 'capital-loss', 'hours-per-week',\n",
    "                'native-country', 'label']\n",
    "\n",
    "train_df = pd.read_csv('adult.data',names = cols,index_col = False, skipinitialspace=True)\n",
    "test_df = pd.read_csv('adult.test',names = cols,index_col = False, skiprows = 1, skipinitialspace=True)"
   ]
  },
  {
   "cell_type": "code",
   "execution_count": 16,
   "metadata": {},
   "outputs": [],
   "source": [
    "# Data cleaning:\n",
    "# education num is a label encoding, we want to do one-hot so we drop education-num\n",
    "train_df = train_df.drop('education-num', axis='columns')\n",
    "test_df = test_df.drop('education-num', axis='columns')\n",
    "\n",
    "# drop all rows with unknown values\n",
    "def clear_unknown_rows(df):\n",
    "    df = df.replace('?',np.NaN)\n",
    "    # existed in test but not training set, can do this in a better way but skipping for now\n",
    "    df = df.replace('Holand-Netherlands', np.NaN)\n",
    "    df = df.dropna()\n",
    "    return df\n",
    "\n",
    "train_df = clear_unknown_rows(train_df)\n",
    "test_df = clear_unknown_rows(test_df)\n",
    "combined_df = pd.concat([test_df,train_df])"
   ]
  },
  {
   "cell_type": "code",
   "execution_count": 17,
   "metadata": {},
   "outputs": [
    {
     "data": {
      "text/html": [
       "<div>\n",
       "<style scoped>\n",
       "    .dataframe tbody tr th:only-of-type {\n",
       "        vertical-align: middle;\n",
       "    }\n",
       "\n",
       "    .dataframe tbody tr th {\n",
       "        vertical-align: top;\n",
       "    }\n",
       "\n",
       "    .dataframe thead th {\n",
       "        text-align: right;\n",
       "    }\n",
       "</style>\n",
       "<table border=\"1\" class=\"dataframe\">\n",
       "  <thead>\n",
       "    <tr style=\"text-align: right;\">\n",
       "      <th></th>\n",
       "      <th>age</th>\n",
       "      <th>workclass</th>\n",
       "      <th>fnlwgt</th>\n",
       "      <th>education</th>\n",
       "      <th>martial-status</th>\n",
       "      <th>occupation</th>\n",
       "      <th>relationship</th>\n",
       "      <th>race</th>\n",
       "      <th>sex</th>\n",
       "      <th>capital-gain</th>\n",
       "      <th>capital-loss</th>\n",
       "      <th>hours-per-week</th>\n",
       "      <th>native-country</th>\n",
       "      <th>label</th>\n",
       "    </tr>\n",
       "  </thead>\n",
       "  <tbody>\n",
       "    <tr>\n",
       "      <th>0</th>\n",
       "      <td>25</td>\n",
       "      <td>Private</td>\n",
       "      <td>226802</td>\n",
       "      <td>11th</td>\n",
       "      <td>Never-married</td>\n",
       "      <td>Machine-op-inspct</td>\n",
       "      <td>Own-child</td>\n",
       "      <td>Black</td>\n",
       "      <td>Male</td>\n",
       "      <td>0</td>\n",
       "      <td>0</td>\n",
       "      <td>40</td>\n",
       "      <td>United-States</td>\n",
       "      <td>0</td>\n",
       "    </tr>\n",
       "    <tr>\n",
       "      <th>1</th>\n",
       "      <td>38</td>\n",
       "      <td>Private</td>\n",
       "      <td>89814</td>\n",
       "      <td>HS-grad</td>\n",
       "      <td>Married-civ-spouse</td>\n",
       "      <td>Farming-fishing</td>\n",
       "      <td>Husband</td>\n",
       "      <td>White</td>\n",
       "      <td>Male</td>\n",
       "      <td>0</td>\n",
       "      <td>0</td>\n",
       "      <td>50</td>\n",
       "      <td>United-States</td>\n",
       "      <td>0</td>\n",
       "    </tr>\n",
       "    <tr>\n",
       "      <th>5</th>\n",
       "      <td>34</td>\n",
       "      <td>Private</td>\n",
       "      <td>198693</td>\n",
       "      <td>10th</td>\n",
       "      <td>Never-married</td>\n",
       "      <td>Other-service</td>\n",
       "      <td>Not-in-family</td>\n",
       "      <td>White</td>\n",
       "      <td>Male</td>\n",
       "      <td>0</td>\n",
       "      <td>0</td>\n",
       "      <td>30</td>\n",
       "      <td>United-States</td>\n",
       "      <td>0</td>\n",
       "    </tr>\n",
       "    <tr>\n",
       "      <th>8</th>\n",
       "      <td>24</td>\n",
       "      <td>Private</td>\n",
       "      <td>369667</td>\n",
       "      <td>Some-college</td>\n",
       "      <td>Never-married</td>\n",
       "      <td>Other-service</td>\n",
       "      <td>Unmarried</td>\n",
       "      <td>White</td>\n",
       "      <td>Female</td>\n",
       "      <td>0</td>\n",
       "      <td>0</td>\n",
       "      <td>40</td>\n",
       "      <td>United-States</td>\n",
       "      <td>0</td>\n",
       "    </tr>\n",
       "    <tr>\n",
       "      <th>9</th>\n",
       "      <td>55</td>\n",
       "      <td>Private</td>\n",
       "      <td>104996</td>\n",
       "      <td>7th-8th</td>\n",
       "      <td>Married-civ-spouse</td>\n",
       "      <td>Craft-repair</td>\n",
       "      <td>Husband</td>\n",
       "      <td>White</td>\n",
       "      <td>Male</td>\n",
       "      <td>0</td>\n",
       "      <td>0</td>\n",
       "      <td>10</td>\n",
       "      <td>United-States</td>\n",
       "      <td>0</td>\n",
       "    </tr>\n",
       "    <tr>\n",
       "      <th>...</th>\n",
       "      <td>...</td>\n",
       "      <td>...</td>\n",
       "      <td>...</td>\n",
       "      <td>...</td>\n",
       "      <td>...</td>\n",
       "      <td>...</td>\n",
       "      <td>...</td>\n",
       "      <td>...</td>\n",
       "      <td>...</td>\n",
       "      <td>...</td>\n",
       "      <td>...</td>\n",
       "      <td>...</td>\n",
       "      <td>...</td>\n",
       "      <td>...</td>\n",
       "    </tr>\n",
       "    <tr>\n",
       "      <th>32553</th>\n",
       "      <td>32</td>\n",
       "      <td>Private</td>\n",
       "      <td>116138</td>\n",
       "      <td>Masters</td>\n",
       "      <td>Never-married</td>\n",
       "      <td>Tech-support</td>\n",
       "      <td>Not-in-family</td>\n",
       "      <td>Asian-Pac-Islander</td>\n",
       "      <td>Male</td>\n",
       "      <td>0</td>\n",
       "      <td>0</td>\n",
       "      <td>11</td>\n",
       "      <td>Taiwan</td>\n",
       "      <td>0</td>\n",
       "    </tr>\n",
       "    <tr>\n",
       "      <th>32555</th>\n",
       "      <td>22</td>\n",
       "      <td>Private</td>\n",
       "      <td>310152</td>\n",
       "      <td>Some-college</td>\n",
       "      <td>Never-married</td>\n",
       "      <td>Protective-serv</td>\n",
       "      <td>Not-in-family</td>\n",
       "      <td>White</td>\n",
       "      <td>Male</td>\n",
       "      <td>0</td>\n",
       "      <td>0</td>\n",
       "      <td>40</td>\n",
       "      <td>United-States</td>\n",
       "      <td>0</td>\n",
       "    </tr>\n",
       "    <tr>\n",
       "      <th>32556</th>\n",
       "      <td>27</td>\n",
       "      <td>Private</td>\n",
       "      <td>257302</td>\n",
       "      <td>Assoc-acdm</td>\n",
       "      <td>Married-civ-spouse</td>\n",
       "      <td>Tech-support</td>\n",
       "      <td>Wife</td>\n",
       "      <td>White</td>\n",
       "      <td>Female</td>\n",
       "      <td>0</td>\n",
       "      <td>0</td>\n",
       "      <td>38</td>\n",
       "      <td>United-States</td>\n",
       "      <td>0</td>\n",
       "    </tr>\n",
       "    <tr>\n",
       "      <th>32558</th>\n",
       "      <td>58</td>\n",
       "      <td>Private</td>\n",
       "      <td>151910</td>\n",
       "      <td>HS-grad</td>\n",
       "      <td>Widowed</td>\n",
       "      <td>Adm-clerical</td>\n",
       "      <td>Unmarried</td>\n",
       "      <td>White</td>\n",
       "      <td>Female</td>\n",
       "      <td>0</td>\n",
       "      <td>0</td>\n",
       "      <td>40</td>\n",
       "      <td>United-States</td>\n",
       "      <td>0</td>\n",
       "    </tr>\n",
       "    <tr>\n",
       "      <th>32559</th>\n",
       "      <td>22</td>\n",
       "      <td>Private</td>\n",
       "      <td>201490</td>\n",
       "      <td>HS-grad</td>\n",
       "      <td>Never-married</td>\n",
       "      <td>Adm-clerical</td>\n",
       "      <td>Own-child</td>\n",
       "      <td>White</td>\n",
       "      <td>Male</td>\n",
       "      <td>0</td>\n",
       "      <td>0</td>\n",
       "      <td>20</td>\n",
       "      <td>United-States</td>\n",
       "      <td>0</td>\n",
       "    </tr>\n",
       "  </tbody>\n",
       "</table>\n",
       "<p>34013 rows × 14 columns</p>\n",
       "</div>"
      ],
      "text/plain": [
       "       age workclass  fnlwgt     education      martial-status  \\\n",
       "0       25   Private  226802          11th       Never-married   \n",
       "1       38   Private   89814       HS-grad  Married-civ-spouse   \n",
       "5       34   Private  198693          10th       Never-married   \n",
       "8       24   Private  369667  Some-college       Never-married   \n",
       "9       55   Private  104996       7th-8th  Married-civ-spouse   \n",
       "...    ...       ...     ...           ...                 ...   \n",
       "32553   32   Private  116138       Masters       Never-married   \n",
       "32555   22   Private  310152  Some-college       Never-married   \n",
       "32556   27   Private  257302    Assoc-acdm  Married-civ-spouse   \n",
       "32558   58   Private  151910       HS-grad             Widowed   \n",
       "32559   22   Private  201490       HS-grad       Never-married   \n",
       "\n",
       "              occupation   relationship                race     sex  \\\n",
       "0      Machine-op-inspct      Own-child               Black    Male   \n",
       "1        Farming-fishing        Husband               White    Male   \n",
       "5          Other-service  Not-in-family               White    Male   \n",
       "8          Other-service      Unmarried               White  Female   \n",
       "9           Craft-repair        Husband               White    Male   \n",
       "...                  ...            ...                 ...     ...   \n",
       "32553       Tech-support  Not-in-family  Asian-Pac-Islander    Male   \n",
       "32555    Protective-serv  Not-in-family               White    Male   \n",
       "32556       Tech-support           Wife               White  Female   \n",
       "32558       Adm-clerical      Unmarried               White  Female   \n",
       "32559       Adm-clerical      Own-child               White    Male   \n",
       "\n",
       "       capital-gain  capital-loss  hours-per-week native-country  label  \n",
       "0                 0             0              40  United-States      0  \n",
       "1                 0             0              50  United-States      0  \n",
       "5                 0             0              30  United-States      0  \n",
       "8                 0             0              40  United-States      0  \n",
       "9                 0             0              10  United-States      0  \n",
       "...             ...           ...             ...            ...    ...  \n",
       "32553             0             0              11         Taiwan      0  \n",
       "32555             0             0              40  United-States      0  \n",
       "32556             0             0              38  United-States      0  \n",
       "32558             0             0              40  United-States      0  \n",
       "32559             0             0              20  United-States      0  \n",
       "\n",
       "[34013 rows x 14 columns]"
      ]
     },
     "execution_count": 17,
     "metadata": {},
     "output_type": "execute_result"
    }
   ],
   "source": [
    "# Preliminary charts (finding common attributes that people making under 50K have)\n",
    "combined_df.head()\n",
    "combined_df.replace({'<=50K.': 0, '>50K.' : 1, '<=50K': 0, '>50K' : 1}, inplace=True)\n",
    "under_50_df = combined_df.loc[combined_df['label'] == 0]\n",
    "under_50_df"
   ]
  },
  {
   "cell_type": "code",
   "execution_count": 18,
   "metadata": {},
   "outputs": [],
   "source": [
    "# one hot encoding - added prefix to columns so that we can consolidate them later\n",
    "def encode_categories(df):\n",
    "    df = df.join(pd.get_dummies(df.pop('workclass'), prefix='workclass'))\n",
    "    df = df.join(pd.get_dummies(df.pop('education'), prefix='education'))\n",
    "    df = df.join(pd.get_dummies(df.pop('martial-status'), prefix='martial-status'))\n",
    "    df = df.join(pd.get_dummies(df.pop('occupation'), prefix='occupation'))\n",
    "    df = df.join(pd.get_dummies(df.pop('relationship'), prefix='relationship'))\n",
    "    df = df.join(pd.get_dummies(df.pop('race'), prefix='race' ))\n",
    "    df = df.join(pd.get_dummies(df.pop('sex'), prefix='sex'))\n",
    "    df = df.join(pd.get_dummies(df.pop('native-country'), prefix='native-country'))\n",
    "    # label needs to be one column instead of two\n",
    "    # need 4 because there's one with a period and one without\n",
    "    df.replace({'<=50K.': 0, '>50K.' : 1, '<=50K': 0, '>50K' : 1}, inplace=True)\n",
    "    return df\n",
    "\n",
    "numerical_df = train_df.copy()\n",
    "numerical_df.replace({'<=50K.': 0, '>50K.' : 1, '<=50K': 0, '>50K' : 1}, inplace=True)\n",
    "\n",
    "train_df = encode_categories(train_df)\n",
    "test_df = encode_categories(test_df)"
   ]
  },
  {
   "cell_type": "code",
   "execution_count": 19,
   "metadata": {},
   "outputs": [],
   "source": [
    "# last step is to get the labels from the training set\n",
    "train_labels_df = train_df['label']\n",
    "test_labels_df = test_df['label']\n",
    "train_df = train_df.drop(['label'],axis=1)\n",
    "test_df = test_df.drop(['label'],axis=1)"
   ]
  },
  {
   "cell_type": "code",
   "execution_count": 20,
   "metadata": {},
   "outputs": [
    {
     "name": "stdout",
     "output_type": "stream",
     "text": [
      "Accuracy: 0.850265604249668\n"
     ]
    }
   ],
   "source": [
    "# Random Forest Model\n",
    "from sklearn.ensemble import RandomForestClassifier\n",
    "\n",
    "clf=RandomForestClassifier(n_estimators=250, max_depth=8)\n",
    "clf.fit(train_df,train_labels_df)\n",
    "y_pred=clf.predict(test_df)\n",
    "\n",
    "print(\"Accuracy:\", metrics.accuracy_score(test_labels_df,y_pred))"
   ]
  },
  {
   "cell_type": "code",
   "execution_count": 9,
   "metadata": {},
   "outputs": [],
   "source": [
    "# importance = clf.feature_importances_\n",
    "# names = train_df.columns\n",
    "# model_type = 'Random Forest'\n",
    "# Importance is feature importance values\n",
    "# Names is Column names\n",
    "# model_type is a string describing the model\n",
    "# topfeatures is the top number features you want to plt\n",
    "def plot_feature_importance(importance, names, model_type, topfeatures, encoded_categories):\n",
    "    \n",
    "    feature_importance = np.array(importance)\n",
    "    feature_names = np.array(names)\n",
    "    \n",
    "    data = {'feature_name': feature_names, 'feature_importance': feature_importance}\n",
    "        \n",
    "    FI_df = pd.DataFrame(data)\n",
    "    for category in encoded_categories:\n",
    "        this_category = FI_df.loc[FI_df['feature_name'].str.startswith(category)]\n",
    "        this_category_importance = this_category['feature_importance'].sum(axis=0)\n",
    "        FI_df = FI_df[~FI_df.feature_name.isin(this_category.feature_name)]\n",
    "        FI_df = FI_df.append({'feature_name': category, 'feature_importance': this_category_importance}, ignore_index=True)\n",
    "    \n",
    "    # Sort DF in terms of feature importance\n",
    "    FI_df.sort_values(by = ['feature_importance'], ascending = False, inplace = True)\n",
    "    \n",
    "    # Font \n",
    "    font = {'fontname': 'Georgia'}\n",
    "    \n",
    "    \n",
    "    \n",
    "    #Plot Feature Importance Bar Chart\n",
    "    plt.figure(figsize = (5,5))\n",
    "    sns.barplot(x = FI_df['feature_importance'][:topfeatures], y = FI_df['feature_name'][:topfeatures])\n",
    "    # Add chart labels\n",
    "#     for index, value in enumerate(feature_importance[:topfeatures]):\n",
    "#         plt.text(value + 0.01, index, str(value), color = 'black', **font)\n",
    "    \n",
    "    plt.title(model_type + ' Feature Importance',**font,fontsize = 20,fontweight=\"bold\")\n",
    "    plt.xlabel('Feature Importance',**font,fontsize = 15,fontweight=\"bold\")\n",
    "    plt.ylabel('Feature Names',**font,fontsize = 15,fontweight=\"bold\")\n",
    "    plt.xticks(**font)\n",
    "    plt.yticks(**font)"
   ]
  },
  {
   "cell_type": "code",
   "execution_count": 13,
   "metadata": {},
   "outputs": [
    {
     "data": {
      "image/png": "[encoded data removed]",
      "text/plain": [
       "<Figure size 360x360 with 1 Axes>"
      ]
     },
     "metadata": {
      "needs_background": "light"
     },
     "output_type": "display_data"
    }
   ],
   "source": [
    "encoded_categories = ('workclass', 'education', 'martial-status', 'occupation', 'relationship',\n",
    "                      'race', 'sex', 'native-country')\n",
    "plot_feature_importance(clf.feature_importances_, train_df.columns, 'Random Forest', 6, encoded_categories)"
   ]
  },
  {
   "cell_type": "code",
   "execution_count": 287,
   "metadata": {},
   "outputs": [
    {
     "name": "stdout",
     "output_type": "stream",
     "text": [
      "fnlwgt            0.008987\n",
      "capital-loss      0.150222\n",
      "capital-gain      0.221195\n",
      "hours-per-week    0.229480\n",
      "age               0.241991\n",
      "label             1.000000\n",
      "Name: label, dtype: float64\n"
     ]
    }
   ],
   "source": [
    "abs_corr_coeffs = numerical_df.corr()['label'].abs().sort_values()\n",
    "print(abs_corr_coeffs)"
   ]
  },
  {
   "cell_type": "code",
   "execution_count": 288,
   "metadata": {},
   "outputs": [],
   "source": [
    "Feature_Series= numerical_df['age']\n",
    "Label_Series = numerical_df['label']\n",
    "\n",
    "Age_Label_df = pd.concat([Feature_Series,Label_Series], axis = 1)"
   ]
  },
  {
   "cell_type": "code",
   "execution_count": 289,
   "metadata": {},
   "outputs": [],
   "source": [
    "def stacked_bar_f(column):\n",
    "    x = numerical_df[column]\n",
    "\n",
    "    x1 = x[numerical_df['label']==1]\n",
    "    #x2 = x[Age_Label_df['label']==0]\n",
    "\n",
    "    label1 = ['Total People in' + column + 'Group']\n",
    "    label2 = ['Percentage with $50K+ Salary']\n",
    "\n",
    "    plt.figure()\n",
    "    plt.hist(x , bins = 7 ,rwidth = 0.7 , stacked = True, ec = 'k',label = label1)\n",
    "    plt.hist(x1 ,bins = 7, rwidth = 0.7, stacked = True, ec = 'k',label = label2)\n",
    "    \n",
    "    plt.xlabel(column)\n",
    "    plt.ylabel('Frequency')\n",
    "    plt.title( column +'vs Income')\n",
    "    plt.legend()\n",
    "    return plt.show()"
   ]
  },
  {
   "cell_type": "code",
   "execution_count": 290,
   "metadata": {},
   "outputs": [
    {
     "data": {
      "text/plain": [
       "<matplotlib.legend.Legend at 0x7fd80c73a670>"
      ]
     },
     "execution_count": 290,
     "metadata": {},
     "output_type": "execute_result"
    },
    {
     "data": {
      "image/png": "[encoded data removed]",
      "text/plain": [
       "<Figure size 432x288 with 1 Axes>"
      ]
     },
     "metadata": {
      "needs_background": "light"
     },
     "output_type": "display_data"
    }
   ],
   "source": [
    "x = Age_Label_df['age']\n",
    "\n",
    "x1 = x[Age_Label_df['label']==1]\n",
    "x2 = x[Age_Label_df['label']==0]\n",
    "\n",
    "label1 = ['Total People in Age Group']\n",
    "label2 = ['Percentage with $50K+ Salary']\n",
    "\n",
    "plt.figure()\n",
    "plt.hist(x , bins = 7 ,rwidth = 0.7 , stacked = True, ec = 'k',label = label1)\n",
    "plt.hist(x1 ,bins = 7, rwidth = 0.7, stacked = True, ec = 'k',label = label2)\n",
    "\n",
    "\n",
    "plt.xlabel('age')\n",
    "plt.ylabel('Frequency')\n",
    "plt.title('Age vs Income')\n",
    "plt.legend()"
   ]
  },
  {
   "cell_type": "code",
   "execution_count": 291,
   "metadata": {},
   "outputs": [],
   "source": [
    "corr_df = abs_corr_coeffs.to_frame(name = '50K+ Salary Correlation')\n",
    "corr_df = corr_df.reset_index()[:-1]\n",
    "corr_df.columns = ['Features','50K+ Salary Correlation']"
   ]
  },
  {
   "cell_type": "code",
   "execution_count": 292,
   "metadata": {},
   "outputs": [
    {
     "data": {
      "image/png": "[encoded data removed]",
      "text/plain": [
       "<Figure size 1440x720 with 1 Axes>"
      ]
     },
     "metadata": {
      "needs_background": "light"
     },
     "output_type": "display_data"
    }
   ],
   "source": [
    "%matplotlib inline\n",
    "\n",
    "feats = corr_df['Features']\n",
    "sal_cor = corr_df['50K+ Salary Correlation']\n",
    "\n",
    "\n",
    "plt.figure(figsize = (20,10))\n",
    "plt.bar(x = feats, height = sal_cor)\n",
    "plt.xticks(rotation = 90, fontsize=16)\n",
    "plt.xlabel('Features',fontsize=16)\n",
    "plt.ylabel('50K+ Salary Correlation',fontsize=16)\n",
    "plt.title('Correlation Bar Chart', fontsize=16)\n",
    "plt.show()"
   ]
  },
  {
   "cell_type": "code",
   "execution_count": null,
   "metadata": {},
   "outputs": [],
   "source": []
  }
 ],
 "metadata": {
  "kernelspec": {
   "display_name": "Python 3",
   "language": "python",
   "name": "python3"
  },
  "language_info": {
   "codemirror_mode": {
    "name": "ipython",
    "version": 3
   },
   "file_extension": ".py",
   "mimetype": "text/x-python",
   "name": "python",
   "nbconvert_exporter": "python",
   "pygments_lexer": "ipython3",
   "version": "3.9.2"
  }
 },
 "nbformat": 4,
 "nbformat_minor": 4
}
