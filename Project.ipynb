{
 "cells": [
  {
   "cell_type": "code",
   "execution_count": null,
   "metadata": {},
   "outputs": [],
   "source": [
    "\"\"\" TODO\n",
    "Clean data ✓\n",
    "Figure out best classification model ✓\n",
    "Figure out most important attributes\n",
    "Figure out best visualization to display attributes that are important\n",
    "Clean up notebook to be presentable\n",
    "\"\"\""
   ]
  },
  {
   "cell_type": "code",
   "execution_count": 139,
   "metadata": {},
   "outputs": [],
   "source": [
    "import pandas as pd\n",
    "import numpy as np\n",
    "# Reading data:\n",
    "column_names = ['age', 'workclass', 'fnlwgt', 'education', 'education-num',\n",
    "                'martial-status', 'occupation', 'relationship', 'race',\n",
    "                'sex', 'capital-gain', 'capital-loss', 'hours-per-week',\n",
    "                'native-country', 'label']\n",
    "\n",
    "train_df = pd.read_csv('adult.data',names=column_names,header=None, index_col=False)\n",
    "test_df = pd.read_csv('adult.test',names=column_names, header=None, index_col=False, skiprows=1)"
   ]
  },
  {
   "cell_type": "code",
   "execution_count": 140,
   "metadata": {},
   "outputs": [],
   "source": [
    "# Data cleaning:\n",
    "# education num is a label encoding, we want to do one-hot so we drop education-num\n",
    "train_df = train_df.drop('education-num', axis='columns')\n",
    "test_df = test_df.drop('education-num', axis='columns')\n",
    "\n",
    "# drop all rows with unknown values\n",
    "def clear_unknown_rows(df):\n",
    "    df = df.replace(' ?',np.NaN)\n",
    "    # existed in test but not training set, can do this in a better way but skipping for now\n",
    "    df = df.replace(' Holand-Netherlands', np.NaN)\n",
    "    df = df.dropna()\n",
    "    return df\n",
    "\n",
    "train_df = clear_unknown_rows(train_df)\n",
    "test_df = clear_unknown_rows(test_df)"
   ]
  },
  {
   "cell_type": "code",
   "execution_count": 141,
   "metadata": {},
   "outputs": [],
   "source": [
    "# one hot encoding\n",
    "def encode_categories(df):\n",
    "    df = df.join(pd.get_dummies(df.pop('workclass')))\n",
    "    df = df.join(pd.get_dummies(df.pop('education')))\n",
    "    df = df.join(pd.get_dummies(df.pop('martial-status')))\n",
    "    df = df.join(pd.get_dummies(df.pop('occupation')))\n",
    "    df = df.join(pd.get_dummies(df.pop('relationship')))\n",
    "    df = df.join(pd.get_dummies(df.pop('race')))\n",
    "    df = df.join(pd.get_dummies(df.pop('sex')))\n",
    "    df = df.join(pd.get_dummies(df.pop('native-country')))\n",
    "    # label needs to be one column instead of two\n",
    "    # need 4 because there's one with a period and one without\n",
    "    df.replace({' <=50K.': 0, ' >50K.' : 1, ' <=50K': 0, ' >50K' : 1}, inplace=True)\n",
    "    return df\n",
    "\n",
    "train_df = encode_categories(train_df)\n",
    "test_df = encode_categories(test_df)"
   ]
  },
  {
   "cell_type": "code",
   "execution_count": 142,
   "metadata": {},
   "outputs": [],
   "source": [
    "# last step is to get the labels from the training set\n",
    "train_labels_df = train_df['label']\n",
    "test_labels_df = test_df['label']\n",
    "train_df = train_df.drop(['label'],axis=1)\n",
    "test_df = test_df.drop(['label'],axis=1)\n"
   ]
  },
  {
   "cell_type": "code",
   "execution_count": 143,
   "metadata": {},
   "outputs": [],
   "source": [
    "#Classification \n",
    "#https://www.datacamp.com/community/tutorials/random-forests-classifier-python\n",
    "from sklearn.ensemble import RandomForestClassifier\n",
    "\n",
    "clf=RandomForestClassifier(n_estimators=100)\n",
    "\n",
    "clf.fit(train_df,train_labels_df)\n",
    "\n",
    "y_pred=clf.predict(test_df)"
   ]
  },
  {
   "cell_type": "code",
   "execution_count": 144,
   "metadata": {},
   "outputs": [
    {
     "name": "stdout",
     "output_type": "stream",
     "text": [
      "Accuracy: 0.8468127490039841\n"
     ]
    }
   ],
   "source": [
    "from sklearn import metrics\n",
    "print(\"Accuracy:\", metrics.accuracy_score(test_labels_df,y_pred))"
   ]
  },
  {
   "cell_type": "code",
   "execution_count": 145,
   "metadata": {},
   "outputs": [
    {
     "data": {
      "text/plain": [
       "fnlwgt                         0.166609\n",
       "age                            0.152310\n",
       "capital-gain                   0.098370\n",
       "hours-per-week                 0.084681\n",
       " Married-civ-spouse            0.069032\n",
       "                                 ...   \n",
       " Laos                          0.000064\n",
       " Thailand                      0.000058\n",
       " Outlying-US(Guam-USVI-etc)    0.000038\n",
       " Armed-Forces                  0.000018\n",
       " Honduras                      0.000004\n",
       "Length: 102, dtype: float64"
      ]
     },
     "execution_count": 145,
     "metadata": {},
     "output_type": "execute_result"
    }
   ],
   "source": [
    "# just a quick shot at guessing what features are most important\n",
    "# a bit more difficult to piece together because we used one-hot encoding but this can \n",
    "# be the subject of the next meeting\n",
    "feature_imp = pd.Series(clf.feature_importances_,index=train_df.columns).sort_values(ascending=False)\n",
    "feature_imp"
   ]
  },
  {
   "cell_type": "code",
   "execution_count": null,
   "metadata": {},
   "outputs": [],
   "source": []
  }
 ],
 "metadata": {
  "kernelspec": {
   "display_name": "Python 3",
   "language": "python",
   "name": "python3"
  },
  "language_info": {
   "codemirror_mode": {
    "name": "ipython",
    "version": 3
   },
   "file_extension": ".py",
   "mimetype": "text/x-python",
   "name": "python",
   "nbconvert_exporter": "python",
   "pygments_lexer": "ipython3",
   "version": "3.9.2"
  }
 },
 "nbformat": 4,
 "nbformat_minor": 4
}
